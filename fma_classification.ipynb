{
 "cells": [
  {
   "cell_type": "code",
   "execution_count": 1,
   "id": "419587ce",
   "metadata": {},
   "outputs": [],
   "source": [
    "import pandas as pd\n",
    "import seaborn as sns\n",
    "from matplotlib import pyplot as plt\n",
    "from sklearn import tree\n",
    "from sklearn.tree import DecisionTreeClassifier # Import Decision Tree Classifier\n",
    "from sklearn.model_selection import train_test_split # Import train_test_split function\n",
    "from sklearn import metrics #Import scikit-learn metrics module for accuracy calculation\n",
    "from sklearn.metrics import accuracy_score, confusion_matrix, precision_recall_fscore_support, precision_score, recall_score, f1_score"
   ]
  },
  {
   "cell_type": "code",
   "execution_count": 2,
   "id": "a4c81679",
   "metadata": {},
   "outputs": [],
   "source": [
    "data=pd.read_csv(\"raw_artists.csv\")"
   ]
  },
  {
   "cell_type": "code",
   "execution_count": 3,
   "id": "131fe42f",
   "metadata": {},
   "outputs": [
    {
     "data": {
      "text/html": [
       "<div>\n",
       "<style scoped>\n",
       "    .dataframe tbody tr th:only-of-type {\n",
       "        vertical-align: middle;\n",
       "    }\n",
       "\n",
       "    .dataframe tbody tr th {\n",
       "        vertical-align: top;\n",
       "    }\n",
       "\n",
       "    .dataframe thead th {\n",
       "        text-align: right;\n",
       "    }\n",
       "</style>\n",
       "<table border=\"1\" class=\"dataframe\">\n",
       "  <thead>\n",
       "    <tr style=\"text-align: right;\">\n",
       "      <th></th>\n",
       "      <th>artist_id</th>\n",
       "      <th>artist_active_year_begin</th>\n",
       "      <th>artist_active_year_end</th>\n",
       "      <th>artist_associated_labels</th>\n",
       "      <th>artist_bio</th>\n",
       "      <th>artist_comments</th>\n",
       "      <th>artist_contact</th>\n",
       "      <th>artist_date_created</th>\n",
       "      <th>artist_donation_url</th>\n",
       "      <th>artist_favorites</th>\n",
       "      <th>...</th>\n",
       "      <th>artist_location</th>\n",
       "      <th>artist_longitude</th>\n",
       "      <th>artist_members</th>\n",
       "      <th>artist_name</th>\n",
       "      <th>artist_paypal_name</th>\n",
       "      <th>artist_related_projects</th>\n",
       "      <th>artist_url</th>\n",
       "      <th>artist_website</th>\n",
       "      <th>artist_wikipedia_page</th>\n",
       "      <th>tags</th>\n",
       "    </tr>\n",
       "  </thead>\n",
       "  <tbody>\n",
       "    <tr>\n",
       "      <th>0</th>\n",
       "      <td>1</td>\n",
       "      <td>2006.0</td>\n",
       "      <td>NaN</td>\n",
       "      <td>NaN</td>\n",
       "      <td>&lt;p&gt;A Way Of Life, A Collective of Hip-Hop from...</td>\n",
       "      <td>0</td>\n",
       "      <td>Brown Bum aka Choke</td>\n",
       "      <td>11/26/2008 01:42:32 AM</td>\n",
       "      <td>NaN</td>\n",
       "      <td>9</td>\n",
       "      <td>...</td>\n",
       "      <td>New Jersey</td>\n",
       "      <td>-74.405661</td>\n",
       "      <td>Sajje Morocco,Brownbum,ZawidaGod,Custodian of ...</td>\n",
       "      <td>AWOL</td>\n",
       "      <td>NaN</td>\n",
       "      <td>The list of past projects is 2 long but every1...</td>\n",
       "      <td>http://freemusicarchive.org/music/AWOL/</td>\n",
       "      <td>http://www.AzillionRecords.blogspot.com</td>\n",
       "      <td>NaN</td>\n",
       "      <td>['awol']</td>\n",
       "    </tr>\n",
       "    <tr>\n",
       "      <th>1</th>\n",
       "      <td>10</td>\n",
       "      <td>NaN</td>\n",
       "      <td>NaN</td>\n",
       "      <td>Mistletone, Marriage Records</td>\n",
       "      <td>&lt;p&gt;\"Lucky Dragons\" means any recorded or perfo...</td>\n",
       "      <td>3</td>\n",
       "      <td>Lukey Dargons</td>\n",
       "      <td>11/26/2008 01:43:35 AM</td>\n",
       "      <td>http://glaciersofnice.com/shop/</td>\n",
       "      <td>111</td>\n",
       "      <td>...</td>\n",
       "      <td>Los Angeles, CA</td>\n",
       "      <td>-118.243685</td>\n",
       "      <td>Luke Fischbeck\\nSarah Rara</td>\n",
       "      <td>Lucky Dragons</td>\n",
       "      <td>NaN</td>\n",
       "      <td>NaN</td>\n",
       "      <td>http://freemusicarchive.org/music/Lucky_Dragons/</td>\n",
       "      <td>http://hawksandsparrows.org/</td>\n",
       "      <td>NaN</td>\n",
       "      <td>['lucky dragons']</td>\n",
       "    </tr>\n",
       "    <tr>\n",
       "      <th>2</th>\n",
       "      <td>100</td>\n",
       "      <td>2004.0</td>\n",
       "      <td>NaN</td>\n",
       "      <td>Captcha Records (HBSP-2X), Pickled Egg (Europe)</td>\n",
       "      <td>&lt;p&gt;&lt;span style=\"font-family:Verdana, Geneva, A...</td>\n",
       "      <td>1</td>\n",
       "      <td>Chris Kalis</td>\n",
       "      <td>11/26/2008 02:05:22 AM</td>\n",
       "      <td>NaN</td>\n",
       "      <td>8</td>\n",
       "      <td>...</td>\n",
       "      <td>Chicago, IL</td>\n",
       "      <td>-87.629798</td>\n",
       "      <td>Chris Kalis, Harry Brenner, Scott McGaughey, B...</td>\n",
       "      <td>Chandeliers</td>\n",
       "      <td>NaN</td>\n",
       "      <td>Killer Whales, \\nMichael Columbia\\nMandate\\nMr...</td>\n",
       "      <td>http://freemusicarchive.org/music/Chandeliers/</td>\n",
       "      <td>thechandeliers.com</td>\n",
       "      <td>NaN</td>\n",
       "      <td>['chandeliers']</td>\n",
       "    </tr>\n",
       "    <tr>\n",
       "      <th>3</th>\n",
       "      <td>1000</td>\n",
       "      <td>NaN</td>\n",
       "      <td>NaN</td>\n",
       "      <td>NaN</td>\n",
       "      <td>&lt;p&gt;&lt;a href=\"http://marzipanmarzipan.com\"&gt;Marzi...</td>\n",
       "      <td>0</td>\n",
       "      <td>NaN</td>\n",
       "      <td>12/04/2008 09:24:35 AM</td>\n",
       "      <td>NaN</td>\n",
       "      <td>0</td>\n",
       "      <td>...</td>\n",
       "      <td>NaN</td>\n",
       "      <td>12.567380</td>\n",
       "      <td>NaN</td>\n",
       "      <td>Marzipan Marzipan</td>\n",
       "      <td>NaN</td>\n",
       "      <td>NaN</td>\n",
       "      <td>http://freemusicarchive.org/music/Marzipan_Mar...</td>\n",
       "      <td>https://soundcloud.com/marzipanmarzipan</td>\n",
       "      <td>NaN</td>\n",
       "      <td>[]</td>\n",
       "    </tr>\n",
       "    <tr>\n",
       "      <th>4</th>\n",
       "      <td>10000</td>\n",
       "      <td>NaN</td>\n",
       "      <td>NaN</td>\n",
       "      <td>NaN</td>\n",
       "      <td>&lt;p&gt;&lt;span style=\"font-family:'Times New Roman',...</td>\n",
       "      <td>0</td>\n",
       "      <td>NaN</td>\n",
       "      <td>1/21/2011 02:11:31 PM</td>\n",
       "      <td>NaN</td>\n",
       "      <td>1</td>\n",
       "      <td>...</td>\n",
       "      <td>NaN</td>\n",
       "      <td>NaN</td>\n",
       "      <td>Jack Hertz\\nPHOBoS\\nBlue Hell</td>\n",
       "      <td>Jack Hertz, PHOBoS, Blue Hell</td>\n",
       "      <td>NaN</td>\n",
       "      <td>NaN</td>\n",
       "      <td>http://freemusicarchive.org/music/Jack_Hertz_P...</td>\n",
       "      <td>http://surrism.phonoethics.com/surrism-phonoet...</td>\n",
       "      <td>NaN</td>\n",
       "      <td>['jack hertz phobos blue hell']</td>\n",
       "    </tr>\n",
       "  </tbody>\n",
       "</table>\n",
       "<p>5 rows × 25 columns</p>\n",
       "</div>"
      ],
      "text/plain": [
       "   artist_id  artist_active_year_begin  artist_active_year_end  \\\n",
       "0          1                    2006.0                     NaN   \n",
       "1         10                       NaN                     NaN   \n",
       "2        100                    2004.0                     NaN   \n",
       "3       1000                       NaN                     NaN   \n",
       "4      10000                       NaN                     NaN   \n",
       "\n",
       "                          artist_associated_labels  \\\n",
       "0                                              NaN   \n",
       "1                     Mistletone, Marriage Records   \n",
       "2  Captcha Records (HBSP-2X), Pickled Egg (Europe)   \n",
       "3                                              NaN   \n",
       "4                                              NaN   \n",
       "\n",
       "                                          artist_bio  artist_comments  \\\n",
       "0  <p>A Way Of Life, A Collective of Hip-Hop from...                0   \n",
       "1  <p>\"Lucky Dragons\" means any recorded or perfo...                3   \n",
       "2  <p><span style=\"font-family:Verdana, Geneva, A...                1   \n",
       "3  <p><a href=\"http://marzipanmarzipan.com\">Marzi...                0   \n",
       "4  <p><span style=\"font-family:'Times New Roman',...                0   \n",
       "\n",
       "        artist_contact     artist_date_created  \\\n",
       "0  Brown Bum aka Choke  11/26/2008 01:42:32 AM   \n",
       "1        Lukey Dargons  11/26/2008 01:43:35 AM   \n",
       "2          Chris Kalis  11/26/2008 02:05:22 AM   \n",
       "3                  NaN  12/04/2008 09:24:35 AM   \n",
       "4                  NaN   1/21/2011 02:11:31 PM   \n",
       "\n",
       "               artist_donation_url  artist_favorites  ...  artist_location  \\\n",
       "0                              NaN                 9  ...       New Jersey   \n",
       "1  http://glaciersofnice.com/shop/               111  ...  Los Angeles, CA   \n",
       "2                              NaN                 8  ...      Chicago, IL   \n",
       "3                              NaN                 0  ...              NaN   \n",
       "4                              NaN                 1  ...              NaN   \n",
       "\n",
       "  artist_longitude                                     artist_members  \\\n",
       "0       -74.405661  Sajje Morocco,Brownbum,ZawidaGod,Custodian of ...   \n",
       "1      -118.243685                         Luke Fischbeck\\nSarah Rara   \n",
       "2       -87.629798  Chris Kalis, Harry Brenner, Scott McGaughey, B...   \n",
       "3        12.567380                                                NaN   \n",
       "4              NaN                      Jack Hertz\\nPHOBoS\\nBlue Hell   \n",
       "\n",
       "                     artist_name  artist_paypal_name  \\\n",
       "0                           AWOL                 NaN   \n",
       "1                  Lucky Dragons                 NaN   \n",
       "2                    Chandeliers                 NaN   \n",
       "3              Marzipan Marzipan                 NaN   \n",
       "4  Jack Hertz, PHOBoS, Blue Hell                 NaN   \n",
       "\n",
       "                             artist_related_projects  \\\n",
       "0  The list of past projects is 2 long but every1...   \n",
       "1                                                NaN   \n",
       "2  Killer Whales, \\nMichael Columbia\\nMandate\\nMr...   \n",
       "3                                                NaN   \n",
       "4                                                NaN   \n",
       "\n",
       "                                          artist_url  \\\n",
       "0            http://freemusicarchive.org/music/AWOL/   \n",
       "1   http://freemusicarchive.org/music/Lucky_Dragons/   \n",
       "2     http://freemusicarchive.org/music/Chandeliers/   \n",
       "3  http://freemusicarchive.org/music/Marzipan_Mar...   \n",
       "4  http://freemusicarchive.org/music/Jack_Hertz_P...   \n",
       "\n",
       "                                      artist_website artist_wikipedia_page  \\\n",
       "0            http://www.AzillionRecords.blogspot.com                   NaN   \n",
       "1                       http://hawksandsparrows.org/                   NaN   \n",
       "2                                 thechandeliers.com                   NaN   \n",
       "3            https://soundcloud.com/marzipanmarzipan                   NaN   \n",
       "4  http://surrism.phonoethics.com/surrism-phonoet...                   NaN   \n",
       "\n",
       "                              tags  \n",
       "0                         ['awol']  \n",
       "1                ['lucky dragons']  \n",
       "2                  ['chandeliers']  \n",
       "3                               []  \n",
       "4  ['jack hertz phobos blue hell']  \n",
       "\n",
       "[5 rows x 25 columns]"
      ]
     },
     "execution_count": 3,
     "metadata": {},
     "output_type": "execute_result"
    }
   ],
   "source": [
    "data.head()"
   ]
  },
  {
   "cell_type": "code",
   "execution_count": 4,
   "id": "32a4172d",
   "metadata": {},
   "outputs": [
    {
     "name": "stdout",
     "output_type": "stream",
     "text": [
      "<class 'pandas.core.frame.DataFrame'>\n",
      "RangeIndex: 16916 entries, 0 to 16915\n",
      "Data columns (total 25 columns):\n",
      " #   Column                    Non-Null Count  Dtype  \n",
      "---  ------                    --------------  -----  \n",
      " 0   artist_id                 16916 non-null  int64  \n",
      " 1   artist_active_year_begin  1419 non-null   float64\n",
      " 2   artist_active_year_end    470 non-null    float64\n",
      " 3   artist_associated_labels  925 non-null    object \n",
      " 4   artist_bio                6644 non-null   object \n",
      " 5   artist_comments           16916 non-null  int64  \n",
      " 6   artist_contact            1456 non-null   object \n",
      " 7   artist_date_created       16916 non-null  object \n",
      " 8   artist_donation_url       1584 non-null   object \n",
      " 9   artist_favorites          16916 non-null  int64  \n",
      " 10  artist_flattr_name        72 non-null     object \n",
      " 11  artist_handle             16916 non-null  object \n",
      " 12  artist_image_file         16916 non-null  object \n",
      " 13  artist_images             7798 non-null   object \n",
      " 14  artist_latitude           4254 non-null   float64\n",
      " 15  artist_location           6465 non-null   object \n",
      " 16  artist_longitude          4254 non-null   float64\n",
      " 17  artist_members            4430 non-null   object \n",
      " 18  artist_name               16916 non-null  object \n",
      " 19  artist_paypal_name        417 non-null    object \n",
      " 20  artist_related_projects   806 non-null    object \n",
      " 21  artist_url                16916 non-null  object \n",
      " 22  artist_website            7480 non-null   object \n",
      " 23  artist_wikipedia_page     615 non-null    object \n",
      " 24  tags                      16916 non-null  object \n",
      "dtypes: float64(4), int64(3), object(18)\n",
      "memory usage: 3.2+ MB\n"
     ]
    }
   ],
   "source": [
    "data.info()"
   ]
  },
  {
   "cell_type": "code",
   "execution_count": 5,
   "id": "df073e20",
   "metadata": {},
   "outputs": [],
   "source": [
    "feature_cols=['artist_id', 'artist_comments', 'artist_favorites','artist_handle','artist_name','artist_url','tags']\n",
    "data=data[feature_cols]"
   ]
  },
  {
   "cell_type": "code",
   "execution_count": 6,
   "id": "96aef55c",
   "metadata": {},
   "outputs": [],
   "source": [
    "from sklearn import preprocessing\n",
    "#creating labelEncoder\n",
    "le = preprocessing.LabelEncoder()\n",
    "# Converting string labels into numbers.\n",
    "data.tags=le.fit_transform(data.tags)"
   ]
  },
  {
   "cell_type": "code",
   "execution_count": 7,
   "id": "f7203256",
   "metadata": {},
   "outputs": [
    {
     "data": {
      "text/html": [
       "<div>\n",
       "<style scoped>\n",
       "    .dataframe tbody tr th:only-of-type {\n",
       "        vertical-align: middle;\n",
       "    }\n",
       "\n",
       "    .dataframe tbody tr th {\n",
       "        vertical-align: top;\n",
       "    }\n",
       "\n",
       "    .dataframe thead th {\n",
       "        text-align: right;\n",
       "    }\n",
       "</style>\n",
       "<table border=\"1\" class=\"dataframe\">\n",
       "  <thead>\n",
       "    <tr style=\"text-align: right;\">\n",
       "      <th></th>\n",
       "      <th>artist_id</th>\n",
       "      <th>artist_comments</th>\n",
       "      <th>artist_favorites</th>\n",
       "      <th>artist_handle</th>\n",
       "      <th>artist_name</th>\n",
       "      <th>artist_url</th>\n",
       "      <th>tags</th>\n",
       "    </tr>\n",
       "  </thead>\n",
       "  <tbody>\n",
       "    <tr>\n",
       "      <th>0</th>\n",
       "      <td>1</td>\n",
       "      <td>0</td>\n",
       "      <td>9</td>\n",
       "      <td>AWOL</td>\n",
       "      <td>AWOL</td>\n",
       "      <td>http://freemusicarchive.org/music/AWOL/</td>\n",
       "      <td>1281</td>\n",
       "    </tr>\n",
       "    <tr>\n",
       "      <th>1</th>\n",
       "      <td>10</td>\n",
       "      <td>3</td>\n",
       "      <td>111</td>\n",
       "      <td>Lucky_Dragons</td>\n",
       "      <td>Lucky Dragons</td>\n",
       "      <td>http://freemusicarchive.org/music/Lucky_Dragons/</td>\n",
       "      <td>8610</td>\n",
       "    </tr>\n",
       "    <tr>\n",
       "      <th>2</th>\n",
       "      <td>100</td>\n",
       "      <td>1</td>\n",
       "      <td>8</td>\n",
       "      <td>Chandeliers</td>\n",
       "      <td>Chandeliers</td>\n",
       "      <td>http://freemusicarchive.org/music/Chandeliers/</td>\n",
       "      <td>2541</td>\n",
       "    </tr>\n",
       "    <tr>\n",
       "      <th>3</th>\n",
       "      <td>1000</td>\n",
       "      <td>0</td>\n",
       "      <td>0</td>\n",
       "      <td>Marzipan_Marzipan</td>\n",
       "      <td>Marzipan Marzipan</td>\n",
       "      <td>http://freemusicarchive.org/music/Marzipan_Mar...</td>\n",
       "      <td>16433</td>\n",
       "    </tr>\n",
       "    <tr>\n",
       "      <th>4</th>\n",
       "      <td>10000</td>\n",
       "      <td>0</td>\n",
       "      <td>1</td>\n",
       "      <td>Jack_Hertz_PHOBoS_Blue_Hell</td>\n",
       "      <td>Jack Hertz, PHOBoS, Blue Hell</td>\n",
       "      <td>http://freemusicarchive.org/music/Jack_Hertz_P...</td>\n",
       "      <td>6841</td>\n",
       "    </tr>\n",
       "  </tbody>\n",
       "</table>\n",
       "</div>"
      ],
      "text/plain": [
       "   artist_id  artist_comments  artist_favorites                artist_handle  \\\n",
       "0          1                0                 9                         AWOL   \n",
       "1         10                3               111                Lucky_Dragons   \n",
       "2        100                1                 8                  Chandeliers   \n",
       "3       1000                0                 0            Marzipan_Marzipan   \n",
       "4      10000                0                 1  Jack_Hertz_PHOBoS_Blue_Hell   \n",
       "\n",
       "                     artist_name  \\\n",
       "0                           AWOL   \n",
       "1                  Lucky Dragons   \n",
       "2                    Chandeliers   \n",
       "3              Marzipan Marzipan   \n",
       "4  Jack Hertz, PHOBoS, Blue Hell   \n",
       "\n",
       "                                          artist_url   tags  \n",
       "0            http://freemusicarchive.org/music/AWOL/   1281  \n",
       "1   http://freemusicarchive.org/music/Lucky_Dragons/   8610  \n",
       "2     http://freemusicarchive.org/music/Chandeliers/   2541  \n",
       "3  http://freemusicarchive.org/music/Marzipan_Mar...  16433  \n",
       "4  http://freemusicarchive.org/music/Jack_Hertz_P...   6841  "
      ]
     },
     "execution_count": 7,
     "metadata": {},
     "output_type": "execute_result"
    }
   ],
   "source": [
    "data.head()"
   ]
  },
  {
   "cell_type": "code",
   "execution_count": 8,
   "id": "1cb02a05",
   "metadata": {},
   "outputs": [
    {
     "data": {
      "text/html": [
       "<div>\n",
       "<style scoped>\n",
       "    .dataframe tbody tr th:only-of-type {\n",
       "        vertical-align: middle;\n",
       "    }\n",
       "\n",
       "    .dataframe tbody tr th {\n",
       "        vertical-align: top;\n",
       "    }\n",
       "\n",
       "    .dataframe thead th {\n",
       "        text-align: right;\n",
       "    }\n",
       "</style>\n",
       "<table border=\"1\" class=\"dataframe\">\n",
       "  <thead>\n",
       "    <tr style=\"text-align: right;\">\n",
       "      <th></th>\n",
       "      <th>artist_id</th>\n",
       "      <th>artist_comments</th>\n",
       "      <th>artist_favorites</th>\n",
       "      <th>artist_handle</th>\n",
       "      <th>artist_name</th>\n",
       "      <th>artist_url</th>\n",
       "      <th>tags</th>\n",
       "    </tr>\n",
       "  </thead>\n",
       "  <tbody>\n",
       "    <tr>\n",
       "      <th>16911</th>\n",
       "      <td>9991</td>\n",
       "      <td>0</td>\n",
       "      <td>5</td>\n",
       "      <td>Art_Boys_Collection</td>\n",
       "      <td>Art Boys Collection</td>\n",
       "      <td>http://freemusicarchive.org/music/Art_Boys_Col...</td>\n",
       "      <td>1063</td>\n",
       "    </tr>\n",
       "    <tr>\n",
       "      <th>16912</th>\n",
       "      <td>9993</td>\n",
       "      <td>0</td>\n",
       "      <td>3</td>\n",
       "      <td>Astroboiler</td>\n",
       "      <td>Astroboiler</td>\n",
       "      <td>http://freemusicarchive.org/music/Astroboiler/</td>\n",
       "      <td>1140</td>\n",
       "    </tr>\n",
       "    <tr>\n",
       "      <th>16913</th>\n",
       "      <td>9994</td>\n",
       "      <td>1</td>\n",
       "      <td>3</td>\n",
       "      <td>Starring</td>\n",
       "      <td>Starring</td>\n",
       "      <td>http://freemusicarchive.org/music/Starring/</td>\n",
       "      <td>13333</td>\n",
       "    </tr>\n",
       "    <tr>\n",
       "      <th>16914</th>\n",
       "      <td>9995</td>\n",
       "      <td>0</td>\n",
       "      <td>0</td>\n",
       "      <td>Chuck_BettisToshio_KajiwaraBarry_Weisblat</td>\n",
       "      <td>Chuck Bettis/Toshio Kajiwara/Barry Weisblat</td>\n",
       "      <td>http://freemusicarchive.org/music/Chuck_Bettis...</td>\n",
       "      <td>2777</td>\n",
       "    </tr>\n",
       "    <tr>\n",
       "      <th>16915</th>\n",
       "      <td>9997</td>\n",
       "      <td>0</td>\n",
       "      <td>0</td>\n",
       "      <td>Trance_And_The_Arcade_w_Commie_64</td>\n",
       "      <td>Trance And The Arcade w/ Commie 64</td>\n",
       "      <td>http://freemusicarchive.org/music/Trance_And_T...</td>\n",
       "      <td>3046</td>\n",
       "    </tr>\n",
       "  </tbody>\n",
       "</table>\n",
       "</div>"
      ],
      "text/plain": [
       "       artist_id  artist_comments  artist_favorites  \\\n",
       "16911       9991                0                 5   \n",
       "16912       9993                0                 3   \n",
       "16913       9994                1                 3   \n",
       "16914       9995                0                 0   \n",
       "16915       9997                0                 0   \n",
       "\n",
       "                                   artist_handle  \\\n",
       "16911                        Art_Boys_Collection   \n",
       "16912                                Astroboiler   \n",
       "16913                                   Starring   \n",
       "16914  Chuck_BettisToshio_KajiwaraBarry_Weisblat   \n",
       "16915          Trance_And_The_Arcade_w_Commie_64   \n",
       "\n",
       "                                       artist_name  \\\n",
       "16911                          Art Boys Collection   \n",
       "16912                                  Astroboiler   \n",
       "16913                                     Starring   \n",
       "16914  Chuck Bettis/Toshio Kajiwara/Barry Weisblat   \n",
       "16915           Trance And The Arcade w/ Commie 64   \n",
       "\n",
       "                                              artist_url   tags  \n",
       "16911  http://freemusicarchive.org/music/Art_Boys_Col...   1063  \n",
       "16912     http://freemusicarchive.org/music/Astroboiler/   1140  \n",
       "16913        http://freemusicarchive.org/music/Starring/  13333  \n",
       "16914  http://freemusicarchive.org/music/Chuck_Bettis...   2777  \n",
       "16915  http://freemusicarchive.org/music/Trance_And_T...   3046  "
      ]
     },
     "execution_count": 8,
     "metadata": {},
     "output_type": "execute_result"
    }
   ],
   "source": [
    "data.tail()"
   ]
  },
  {
   "cell_type": "code",
   "execution_count": 9,
   "id": "c9b1fd75",
   "metadata": {},
   "outputs": [
    {
     "data": {
      "text/plain": [
       "False"
      ]
     },
     "execution_count": 9,
     "metadata": {},
     "output_type": "execute_result"
    }
   ],
   "source": [
    "data.isnull().values.any()"
   ]
  },
  {
   "cell_type": "code",
   "execution_count": 10,
   "id": "3c10a005",
   "metadata": {},
   "outputs": [
    {
     "data": {
      "text/plain": [
       "<AxesSubplot:xlabel='artist_comments', ylabel='Count'>"
      ]
     },
     "execution_count": 10,
     "metadata": {},
     "output_type": "execute_result"
    },
    {
     "data": {
      "image/png": "[encoded data removed]",
      "text/plain": [
       "<Figure size 432x288 with 1 Axes>"
      ]
     },
     "metadata": {
      "needs_background": "light"
     },
     "output_type": "display_data"
    }
   ],
   "source": [
    "sns.histplot(data.artist_comments)"
   ]
  },
  {
   "cell_type": "code",
   "execution_count": 11,
   "id": "95901b72",
   "metadata": {},
   "outputs": [
    {
     "name": "stderr",
     "output_type": "stream",
     "text": [
      "C:\\Users\\hatic\\anaconda3\\lib\\site-packages\\seaborn\\distributions.py:2557: FutureWarning: `distplot` is a deprecated function and will be removed in a future version. Please adapt your code to use either `displot` (a figure-level function with similar flexibility) or `histplot` (an axes-level function for histograms).\n",
      "  warnings.warn(msg, FutureWarning)\n"
     ]
    },
    {
     "data": {
      "text/plain": [
       "<AxesSubplot:xlabel='artist_id', ylabel='Density'>"
      ]
     },
     "execution_count": 11,
     "metadata": {},
     "output_type": "execute_result"
    },
    {
     "data": {
      "image/png": "[encoded data removed]",
      "text/plain": [
       "<Figure size 432x288 with 1 Axes>"
      ]
     },
     "metadata": {
      "needs_background": "light"
     },
     "output_type": "display_data"
    }
   ],
   "source": [
    "sns.distplot(data.artist_id)"
   ]
  },
  {
   "cell_type": "code",
   "execution_count": 12,
   "id": "de618f5a",
   "metadata": {},
   "outputs": [
    {
     "name": "stderr",
     "output_type": "stream",
     "text": [
      "C:\\Users\\hatic\\anaconda3\\lib\\site-packages\\seaborn\\_decorators.py:36: FutureWarning: Pass the following variables as keyword args: x, y. From version 0.12, the only valid positional argument will be `data`, and passing other arguments without an explicit keyword will result in an error or misinterpretation.\n",
      "  warnings.warn(\n"
     ]
    },
    {
     "data": {
      "text/plain": [
       "<seaborn.axisgrid.JointGrid at 0x1852a793520>"
      ]
     },
     "execution_count": 12,
     "metadata": {},
     "output_type": "execute_result"
    },
    {
     "data": {
      "image/png": "[encoded data removed]",
      "text/plain": [
       "<Figure size 432x432 with 3 Axes>"
      ]
     },
     "metadata": {
      "needs_background": "light"
     },
     "output_type": "display_data"
    }
   ],
   "source": [
    "sns.jointplot(data.artist_id, data.artist_comments)"
   ]
  },
  {
   "cell_type": "code",
   "execution_count": 13,
   "id": "1aeb8bd6",
   "metadata": {},
   "outputs": [],
   "source": [
    "cust_group = data.groupby(['tags']).sum().reset_index()"
   ]
  },
  {
   "cell_type": "code",
   "execution_count": 14,
   "id": "0bfa7fa3",
   "metadata": {},
   "outputs": [
    {
     "data": {
      "text/plain": [
       "<AxesSubplot:xlabel='artist_comments', ylabel='tags'>"
      ]
     },
     "execution_count": 14,
     "metadata": {},
     "output_type": "execute_result"
    },
    {
     "data": {
      "image/png": "[encoded data removed]",
      "text/plain": [
       "<Figure size 3600x720 with 1 Axes>"
      ]
     },
     "metadata": {
      "needs_background": "light"
     },
     "output_type": "display_data"
    }
   ],
   "source": [
    "plt.figure(figsize=(50,10))\n",
    "sns.barplot(data=cust_group,x='artist_comments',y='tags')"
   ]
  },
  {
   "cell_type": "code",
   "execution_count": null,
   "id": "84f85ff2",
   "metadata": {},
   "outputs": [],
   "source": []
  },
  {
   "cell_type": "markdown",
   "id": "a16b952a",
   "metadata": {},
   "source": [
    "# Classification Algorithms\n",
    "Bu projede şu şu algoritmalar kullanıldı vs diye anlat."
   ]
  },
  {
   "cell_type": "markdown",
   "id": "a096dca8",
   "metadata": {},
   "source": [
    "# Decision Tree Classifier"
   ]
  },
  {
   "cell_type": "code",
   "execution_count": 15,
   "id": "220bef41",
   "metadata": {},
   "outputs": [],
   "source": [
    "dec_features=['artist_comments', 'artist_id','tags']\n",
    "X = data[dec_features] # Features\n",
    "y = data.artist_favorites"
   ]
  },
  {
   "cell_type": "code",
   "execution_count": 16,
   "id": "7d4794b3",
   "metadata": {},
   "outputs": [],
   "source": [
    "X_train, X_test, y_train, y_test = train_test_split(X, y, test_size=0.3, random_state=1) "
   ]
  },
  {
   "cell_type": "code",
   "execution_count": 24,
   "id": "ec0b8cb4",
   "metadata": {},
   "outputs": [],
   "source": [
    "clf = DecisionTreeClassifier(criterion=\"gini\", max_depth=2)\n",
    "\n",
    "# Train Decision Tree Classifer\n",
    "clf = clf.fit(X_train,y_train)\n",
    "\n",
    "#Predict the response for test dataset\n",
    "y_pred = clf.predict(X_test)"
   ]
  },
  {
   "cell_type": "code",
   "execution_count": 25,
   "id": "3952c703",
   "metadata": {},
   "outputs": [
    {
     "name": "stdout",
     "output_type": "stream",
     "text": [
      "Accuracy: 0.5077832512315271\n",
      "Recall: 0.5077832512315271\n",
      "Precision: 0.26940975414148965\n",
      "F1 Score: 0.3520242064942572\n",
      "Confusion Matrix:\n",
      " [[2567    0    0 ...    0    0    0]\n",
      " [ 854    0    0 ...    0    0    0]\n",
      " [ 401    0    0 ...    0    0    0]\n",
      " ...\n",
      " [   0    0    0 ...    0    0    0]\n",
      " [   0    0    0 ...    0    0    0]\n",
      " [   0    0    0 ...    0    0    0]]\n"
     ]
    },
    {
     "name": "stderr",
     "output_type": "stream",
     "text": [
      "C:\\Users\\hatic\\anaconda3\\lib\\site-packages\\sklearn\\metrics\\_classification.py:1245: UndefinedMetricWarning: Precision is ill-defined and being set to 0.0 in labels with no predicted samples. Use `zero_division` parameter to control this behavior.\n",
      "  _warn_prf(average, modifier, msg_start, len(result))\n"
     ]
    }
   ],
   "source": [
    "print(\"Accuracy:\",metrics.accuracy_score(y_test, y_pred))\n",
    "recall_gini = recall_score(y_test, y_pred, average=\"weighted\")\n",
    "print(\"Recall:\", recall_gini)\n",
    "\n",
    "precision_gini = precision_score(y_test, y_pred, average=\"weighted\")\n",
    "print(\"Precision:\", precision_gini)\n",
    "\n",
    "f1_gini = f1_score(y_test, y_pred, average='weighted')\n",
    "print(\"F1 Score:\", f1_gini)\n",
    "\n",
    "confusion_gini = confusion_matrix(y_test, y_pred)\n",
    "print(\"Confusion Matrix:\\n\", confusion_gini)"
   ]
  },
  {
   "cell_type": "code",
   "execution_count": 26,
   "id": "85dca236",
   "metadata": {},
   "outputs": [
    {
     "data": {
      "image/png": "[encoded data removed]",
      "text/plain": [
       "<Figure size 1080x720 with 1 Axes>"
      ]
     },
     "metadata": {
      "needs_background": "light"
     },
     "output_type": "display_data"
    }
   ],
   "source": [
    "#Decision tree visualized\n",
    "fig = plt.figure(figsize=(15,10))\n",
    "_ = tree.plot_tree(clf, \n",
    "                   feature_names=['artist_comments', 'artist_id'],  \n",
    "                   class_names=str(data.artist_favorites),\n",
    "                   filled=True)"
   ]
  },
  {
   "cell_type": "markdown",
   "id": "f841f7c3",
   "metadata": {},
   "source": [
    "# KNN"
   ]
  },
  {
   "cell_type": "code",
   "execution_count": 31,
   "id": "08fd55fa",
   "metadata": {},
   "outputs": [],
   "source": [
    "from sklearn.neighbors import KNeighborsClassifier\n",
    "\n",
    "model = KNeighborsClassifier(n_neighbors=3)\n",
    "\n",
    "model.fit(X_train,y_train)\n",
    "\n",
    "y_pred = model.predict(X_test)"
   ]
  },
  {
   "cell_type": "code",
   "execution_count": 32,
   "id": "07b9b2c6",
   "metadata": {},
   "outputs": [
    {
     "name": "stdout",
     "output_type": "stream",
     "text": [
      "Accuracy: 0.4535960591133005\n",
      "Recall: 0.4535960591133005\n",
      "Precision: 0.3128686768038409\n",
      "F1 Score: 0.36410842853770586\n",
      "Confusion Matrix:\n",
      " [[2150  292   77 ...    0    0    0]\n",
      " [ 655  137   40 ...    0    0    0]\n",
      " [ 319   57   11 ...    0    0    0]\n",
      " ...\n",
      " [   1    0    0 ...    0    0    0]\n",
      " [   1    0    0 ...    0    0    0]\n",
      " [   1    0    0 ...    0    0    0]]\n"
     ]
    },
    {
     "name": "stderr",
     "output_type": "stream",
     "text": [
      "C:\\Users\\hatic\\anaconda3\\lib\\site-packages\\sklearn\\metrics\\_classification.py:1245: UndefinedMetricWarning: Precision is ill-defined and being set to 0.0 in labels with no predicted samples. Use `zero_division` parameter to control this behavior.\n",
      "  _warn_prf(average, modifier, msg_start, len(result))\n"
     ]
    }
   ],
   "source": [
    "print(\"Accuracy:\",metrics.accuracy_score(y_test, y_pred))\n",
    "recall = recall_score(y_test, y_pred, average=\"weighted\")\n",
    "print(\"Recall:\", recall)\n",
    "\n",
    "precision = precision_score(y_test, y_pred, average=\"weighted\")\n",
    "print(\"Precision:\", precision)\n",
    "\n",
    "f1 = f1_score(y_test, y_pred, average='weighted')\n",
    "print(\"F1 Score:\", f1)\n",
    "\n",
    "confusion = confusion_matrix(y_test, y_pred)\n",
    "print(\"Confusion Matrix:\\n\", confusion)"
   ]
  },
  {
   "cell_type": "code",
   "execution_count": 33,
   "id": "513be0d8",
   "metadata": {},
   "outputs": [],
   "source": [
    "from sklearn.neighbors import KNeighborsClassifier\n",
    "\n",
    "knn = KNeighborsClassifier(n_neighbors=5)\n",
    "\n",
    "knn.fit(X_train, y_train)\n",
    "\n",
    "y_pred = knn.predict(X_test)"
   ]
  },
  {
   "cell_type": "code",
   "execution_count": 34,
   "id": "2870be6a",
   "metadata": {},
   "outputs": [
    {
     "name": "stdout",
     "output_type": "stream",
     "text": [
      "Accuracy: 0.4640394088669951\n",
      "Recall: 0.4640394088669951\n",
      "Precision: 0.3138639011046076\n",
      "F1 Score: 0.3643848876782055\n",
      "Confusion Matrix:\n",
      " [[2224  241   55 ...    0    0    0]\n",
      " [ 696  115   23 ...    0    0    0]\n",
      " [ 328   52   12 ...    0    0    0]\n",
      " ...\n",
      " [   1    0    0 ...    0    0    0]\n",
      " [   1    0    0 ...    0    0    0]\n",
      " [   1    0    0 ...    0    0    0]]\n"
     ]
    },
    {
     "name": "stderr",
     "output_type": "stream",
     "text": [
      "C:\\Users\\hatic\\anaconda3\\lib\\site-packages\\sklearn\\metrics\\_classification.py:1245: UndefinedMetricWarning: Precision is ill-defined and being set to 0.0 in labels with no predicted samples. Use `zero_division` parameter to control this behavior.\n",
      "  _warn_prf(average, modifier, msg_start, len(result))\n"
     ]
    }
   ],
   "source": [
    "print(\"Accuracy:\",metrics.accuracy_score(y_test, y_pred))\n",
    "recall = recall_score(y_test, y_pred, average=\"weighted\")\n",
    "print(\"Recall:\", recall)\n",
    "\n",
    "precision = precision_score(y_test, y_pred, average=\"weighted\")\n",
    "print(\"Precision:\", precision)\n",
    "\n",
    "f1 = f1_score(y_test, y_pred, average='weighted')\n",
    "print(\"F1 Score:\", f1)\n",
    "\n",
    "confusion = confusion_matrix(y_test, y_pred)\n",
    "print(\"Confusion Matrix:\\n\", confusion)"
   ]
  },
  {
   "cell_type": "markdown",
   "id": "5bf3bbe6",
   "metadata": {},
   "source": [
    "Random Forest"
   ]
  },
  {
   "cell_type": "code",
   "execution_count": 35,
   "id": "e63f6015",
   "metadata": {},
   "outputs": [],
   "source": [
    "from sklearn.ensemble import RandomForestClassifier\n",
    "\n",
    "clf=RandomForestClassifier(n_estimators=100)\n",
    "\n",
    "clf.fit(X_train,y_train)\n",
    "\n",
    "y_pred=clf.predict(X_test)"
   ]
  },
  {
   "cell_type": "code",
   "execution_count": 36,
   "id": "fb5e20ac",
   "metadata": {},
   "outputs": [
    {
     "name": "stdout",
     "output_type": "stream",
     "text": [
      "Accuracy: 0.46798029556650245\n",
      "Recall: 0.46798029556650245\n",
      "Precision: 0.36647501622413137\n",
      "F1 Score: 0.4040559615786948\n",
      "Confusion Matrix:\n",
      " [[2170  219   68 ...    0    0    0]\n",
      " [ 584  162   39 ...    0    0    0]\n",
      " [ 271   56   22 ...    0    0    0]\n",
      " ...\n",
      " [   0    0    0 ...    0    0    0]\n",
      " [   0    0    0 ...    0    0    0]\n",
      " [   0    0    0 ...    0    0    0]]\n"
     ]
    },
    {
     "name": "stderr",
     "output_type": "stream",
     "text": [
      "C:\\Users\\hatic\\anaconda3\\lib\\site-packages\\sklearn\\metrics\\_classification.py:1245: UndefinedMetricWarning: Recall is ill-defined and being set to 0.0 in labels with no true samples. Use `zero_division` parameter to control this behavior.\n",
      "  _warn_prf(average, modifier, msg_start, len(result))\n",
      "C:\\Users\\hatic\\anaconda3\\lib\\site-packages\\sklearn\\metrics\\_classification.py:1245: UndefinedMetricWarning: Precision is ill-defined and being set to 0.0 in labels with no predicted samples. Use `zero_division` parameter to control this behavior.\n",
      "  _warn_prf(average, modifier, msg_start, len(result))\n"
     ]
    }
   ],
   "source": [
    "print(\"Accuracy:\",metrics.accuracy_score(y_test, y_pred))\n",
    "recall = recall_score(y_test, y_pred, average=\"weighted\")\n",
    "print(\"Recall:\", recall)\n",
    "\n",
    "precision = precision_score(y_test, y_pred, average=\"weighted\")\n",
    "print(\"Precision:\", precision)\n",
    "\n",
    "f1 = f1_score(y_test, y_pred, average='weighted')\n",
    "print(\"F1 Score:\", f1)\n",
    "\n",
    "confusion = confusion_matrix(y_test, y_pred)\n",
    "print(\"Confusion Matrix:\\n\", confusion)"
   ]
  },
  {
   "cell_type": "code",
   "execution_count": 38,
   "id": "243832d8",
   "metadata": {},
   "outputs": [
    {
     "ename": "ValueError",
     "evalue": "Length of passed values is 3, index implies 16916.",
     "output_type": "error",
     "traceback": [
      "\u001b[1;31m---------------------------------------------------------------------------\u001b[0m",
      "\u001b[1;31mValueError\u001b[0m                                Traceback (most recent call last)",
      "\u001b[1;32m<ipython-input-38-7076f48fff58>\u001b[0m in \u001b[0;36m<module>\u001b[1;34m\u001b[0m\n\u001b[0;32m      2\u001b[0m \u001b[0mget_ipython\u001b[0m\u001b[1;33m(\u001b[0m\u001b[1;33m)\u001b[0m\u001b[1;33m.\u001b[0m\u001b[0mrun_line_magic\u001b[0m\u001b[1;33m(\u001b[0m\u001b[1;34m'matplotlib'\u001b[0m\u001b[1;33m,\u001b[0m \u001b[1;34m'inline'\u001b[0m\u001b[1;33m)\u001b[0m\u001b[1;33m\u001b[0m\u001b[1;33m\u001b[0m\u001b[0m\n\u001b[0;32m      3\u001b[0m \u001b[1;33m\u001b[0m\u001b[0m\n\u001b[1;32m----> 4\u001b[1;33m \u001b[0mfeature_imp\u001b[0m \u001b[1;33m=\u001b[0m \u001b[0mpd\u001b[0m\u001b[1;33m.\u001b[0m\u001b[0mSeries\u001b[0m\u001b[1;33m(\u001b[0m\u001b[0mclf\u001b[0m\u001b[1;33m.\u001b[0m\u001b[0mfeature_importances_\u001b[0m\u001b[1;33m,\u001b[0m\u001b[0mindex\u001b[0m\u001b[1;33m=\u001b[0m\u001b[0mdata\u001b[0m\u001b[1;33m.\u001b[0m\u001b[0martist_favorites\u001b[0m\u001b[1;33m)\u001b[0m\u001b[1;33m.\u001b[0m\u001b[0msort_values\u001b[0m\u001b[1;33m(\u001b[0m\u001b[0mascending\u001b[0m\u001b[1;33m=\u001b[0m\u001b[1;32mFalse\u001b[0m\u001b[1;33m)\u001b[0m\u001b[1;33m\u001b[0m\u001b[1;33m\u001b[0m\u001b[0m\n\u001b[0m\u001b[0;32m      5\u001b[0m \u001b[0mfeature_imp\u001b[0m\u001b[1;33m\u001b[0m\u001b[1;33m\u001b[0m\u001b[0m\n\u001b[0;32m      6\u001b[0m \u001b[1;31m# Creating a bar plot\u001b[0m\u001b[1;33m\u001b[0m\u001b[1;33m\u001b[0m\u001b[1;33m\u001b[0m\u001b[0m\n",
      "\u001b[1;32m~\\anaconda3\\lib\\site-packages\\pandas\\core\\series.py\u001b[0m in \u001b[0;36m__init__\u001b[1;34m(self, data, index, dtype, name, copy, fastpath)\u001b[0m\n\u001b[0;32m    348\u001b[0m                 \u001b[1;32mtry\u001b[0m\u001b[1;33m:\u001b[0m\u001b[1;33m\u001b[0m\u001b[1;33m\u001b[0m\u001b[0m\n\u001b[0;32m    349\u001b[0m                     \u001b[1;32mif\u001b[0m \u001b[0mlen\u001b[0m\u001b[1;33m(\u001b[0m\u001b[0mindex\u001b[0m\u001b[1;33m)\u001b[0m \u001b[1;33m!=\u001b[0m \u001b[0mlen\u001b[0m\u001b[1;33m(\u001b[0m\u001b[0mdata\u001b[0m\u001b[1;33m)\u001b[0m\u001b[1;33m:\u001b[0m\u001b[1;33m\u001b[0m\u001b[1;33m\u001b[0m\u001b[0m\n\u001b[1;32m--> 350\u001b[1;33m                         raise ValueError(\n\u001b[0m\u001b[0;32m    351\u001b[0m                             \u001b[1;34mf\"Length of passed values is {len(data)}, \"\u001b[0m\u001b[1;33m\u001b[0m\u001b[1;33m\u001b[0m\u001b[0m\n\u001b[0;32m    352\u001b[0m                             \u001b[1;34mf\"index implies {len(index)}.\"\u001b[0m\u001b[1;33m\u001b[0m\u001b[1;33m\u001b[0m\u001b[0m\n",
      "\u001b[1;31mValueError\u001b[0m: Length of passed values is 3, index implies 16916."
     ]
    }
   ],
   "source": [
    "import matplotlib.pyplot as plt\n",
    "%matplotlib inline\n",
    "\n",
    "feature_imp = pd.Series(clf.feature_importances_,index=data.artist_favorites).sort_values(ascending=False)\n",
    "feature_imp\n",
    "# Creating a bar plot\n",
    "sns.barplot(x=feature_imp, y=feature_imp.index)\n",
    "# Add labels to your graph\n",
    "plt.xlabel('Feature Importance Score')\n",
    "plt.ylabel('Features')\n",
    "plt.title(\"Visualizing Important Features\")\n",
    "plt.legend()\n",
    "plt.show()"
   ]
  },
  {
   "cell_type": "code",
   "execution_count": null,
   "id": "b0c2bf35",
   "metadata": {},
   "outputs": [],
   "source": []
  }
 ],
 "metadata": {
  "kernelspec": {
   "display_name": "Python 3",
   "language": "python",
   "name": "python3"
  },
  "language_info": {
   "codemirror_mode": {
    "name": "ipython",
    "version": 3
   },
   "file_extension": ".py",
   "mimetype": "text/x-python",
   "name": "python",
   "nbconvert_exporter": "python",
   "pygments_lexer": "ipython3",
   "version": "3.8.8"
  }
 },
 "nbformat": 4,
 "nbformat_minor": 5
}
